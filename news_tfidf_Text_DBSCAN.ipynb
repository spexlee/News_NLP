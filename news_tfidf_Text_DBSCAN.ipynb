{
 "cells": [
  {
   "cell_type": "markdown",
   "metadata": {},
   "source": [
    "## Tokenized news를 TFIDF로 벡터화하고 DBSCAN으로 군집화"
   ]
  },
  {
   "cell_type": "code",
   "execution_count": 20,
   "metadata": {},
   "outputs": [],
   "source": [
    "import pandas as pd\n",
    "import numpy as np\n",
    "import re\n",
    "from konlpy.tag import Okt\n",
    "import numpy as np\n",
    "import pandas as pd\n",
    "import json\n",
    "import os\n",
    "from collections import defaultdict\n",
    "import matplotlib.pyplot as plt\n",
    "from gensim.models.word2vec import Word2Vec\n",
    "from sklearn.feature_extraction.text import TfidfVectorizer\n",
    "from sklearn.cluster import DBSCAN\n",
    "from sklearn.preprocessing import scale\n",
    "import mglearn\n",
    "from sklearn.metrics import silhouette_samples, silhouette_score"
   ]
  },
  {
   "cell_type": "code",
   "execution_count": 21,
   "metadata": {},
   "outputs": [],
   "source": [
    "df_tmp = pd.read_csv('../data/tokenized_news/tokenized_all')"
   ]
  },
  {
   "cell_type": "code",
   "execution_count": 22,
   "metadata": {},
   "outputs": [],
   "source": [
    "df_tmp = df_tmp.drop(columns='Unnamed: 0')"
   ]
  },
  {
   "cell_type": "code",
   "execution_count": 44,
   "metadata": {},
   "outputs": [],
   "source": [
    "tfidf_vect = TfidfVectorizer(max_df=0.95, min_df=0.5)\n",
    "\n",
    "#opinion_text 컬럼값으로 feature vectorization 수행\n",
    "feature_vect = tfidf_vect.fit_transform(df_tmp['text_V'].apply(lambda x: np.str_(x)))"
   ]
  },
  {
   "cell_type": "code",
   "execution_count": 45,
   "metadata": {},
   "outputs": [],
   "source": [
    "dbscan = DBSCAN(eps=0.5, min_samples=5, metric='euclidean')\n",
    "dbscan_labels = dbscan.fit_predict(feature_vect)"
   ]
  },
  {
   "cell_type": "code",
   "execution_count": 46,
   "metadata": {},
   "outputs": [],
   "source": [
    "df_tmp['dbscan_cluster'] = dbscan_labels"
   ]
  },
  {
   "cell_type": "code",
   "execution_count": 47,
   "metadata": {
    "scrolled": true
   },
   "outputs": [
    {
     "data": {
      "text/html": [
       "<div>\n",
       "<style scoped>\n",
       "    .dataframe tbody tr th:only-of-type {\n",
       "        vertical-align: middle;\n",
       "    }\n",
       "\n",
       "    .dataframe tbody tr th {\n",
       "        vertical-align: top;\n",
       "    }\n",
       "\n",
       "    .dataframe thead th {\n",
       "        text-align: right;\n",
       "    }\n",
       "</style>\n",
       "<table border=\"1\" class=\"dataframe\">\n",
       "  <thead>\n",
       "    <tr style=\"text-align: right;\">\n",
       "      <th></th>\n",
       "      <th>title</th>\n",
       "      <th>text</th>\n",
       "      <th>url</th>\n",
       "      <th>media</th>\n",
       "      <th>date</th>\n",
       "      <th>text_V</th>\n",
       "      <th>title_V</th>\n",
       "      <th>dbscan_cluster</th>\n",
       "    </tr>\n",
       "  </thead>\n",
       "  <tbody>\n",
       "    <tr>\n",
       "      <th>0</th>\n",
       "      <td>무너지는 일과 삶의 경계···노동이 녹아내린다</td>\n",
       "      <td>이 땅에서 ‘비정규직’이라는 표현이 광범위하게 쓰인 지 20여년. 정부가 신규 일자...</td>\n",
       "      <td>https://news.naver.com/main/read.nhn?mode=LPOD...</td>\n",
       "      <td>경향신문</td>\n",
       "      <td>2020-01-01</td>\n",
       "      <td>비정규직, 표현, 정부, 신규, 일자리, 비정규직, 정규직, 전환, 주력, 사이, ...</td>\n",
       "      <td>일과, 경계, 노동</td>\n",
       "      <td>0</td>\n",
       "    </tr>\n",
       "    <tr>\n",
       "      <th>61</th>\n",
       "      <td>\"기자는 진실의 목격자, 우릴 믿어야할 이유를 독자에게 증명하라\"</td>\n",
       "      <td>[조선일보 100년 / 진실의 수호자들] 영화 '스포트라이트' 실제인물 마틴 배런 ...</td>\n",
       "      <td>https://news.naver.com/main/read.nhn?mode=LPOD...</td>\n",
       "      <td>조선일보</td>\n",
       "      <td>2020-01-01</td>\n",
       "      <td>진실, 호자, 영화, 스포트라이트, 실제, 인물, 마틴, 배런, 편집국, 인터뷰, ...</td>\n",
       "      <td>기자, 진실, 목격자, 우릴, 이유, 독자, 증명</td>\n",
       "      <td>0</td>\n",
       "    </tr>\n",
       "    <tr>\n",
       "      <th>60</th>\n",
       "      <td>가짜가 진짜보다 6배 빨리 퍼진다… 인류 파괴하는 '거짓 정보'</td>\n",
       "      <td>[조선일보 100년 / 진실의 수호자들] [1] 저널리즘의 도전: 민주주의를 위협하...</td>\n",
       "      <td>https://news.naver.com/main/read.nhn?mode=LPOD...</td>\n",
       "      <td>조선일보</td>\n",
       "      <td>2020-01-01</td>\n",
       "      <td>진실, 호자, 저널리즘, 도전, 민주주의, 위협, 가짜, 전쟁, 대선, 힐러리, 아...</td>\n",
       "      <td>가짜, 진짜, 인류, 파괴, 거짓, 정보</td>\n",
       "      <td>0</td>\n",
       "    </tr>\n",
       "    <tr>\n",
       "      <th>59</th>\n",
       "      <td>\"진짜뉴스는 비싸다, 때론 목숨까지 건다\"</td>\n",
       "      <td>[조선일보 100년 / 진실의 수호자들] [1] 저널리즘의 도전: 민주주의를 위협하...</td>\n",
       "      <td>https://news.naver.com/main/read.nhn?mode=LPOD...</td>\n",
       "      <td>조선일보</td>\n",
       "      <td>2020-01-01</td>\n",
       "      <td>진실, 호자, 저널리즘, 도전, 민주주의, 위협, 가짜, 전쟁, 거짓, 정보, 손가...</td>\n",
       "      <td>진짜, 뉴스, 때론, 목숨</td>\n",
       "      <td>0</td>\n",
       "    </tr>\n",
       "    <tr>\n",
       "      <th>58</th>\n",
       "      <td>\"아들 美대학 시험, 조국부부가 대신 풀어줘 A학점\"</td>\n",
       "      <td>檢 \"아들이 문제 사진찍어 보내면 부부가 답안 적어 다시 美 보내… 美대학 장학증명...</td>\n",
       "      <td>https://news.naver.com/main/read.nhn?mode=LPOD...</td>\n",
       "      <td>조선일보</td>\n",
       "      <td>2020-01-01</td>\n",
       "      <td>아들, 문제, 사진, 부부, 답안, 다시, 대학, 장학, 증명서, 위조, 국회, 제...</td>\n",
       "      <td>아들, 대학, 시험, 조국, 부부, 대신, 학점</td>\n",
       "      <td>0</td>\n",
       "    </tr>\n",
       "    <tr>\n",
       "      <th>...</th>\n",
       "      <td>...</td>\n",
       "      <td>...</td>\n",
       "      <td>...</td>\n",
       "      <td>...</td>\n",
       "      <td>...</td>\n",
       "      <td>...</td>\n",
       "      <td>...</td>\n",
       "      <td>...</td>\n",
       "    </tr>\n",
       "    <tr>\n",
       "      <th>28940</th>\n",
       "      <td>대구, 또 ‘교회發’ 비상… 순천선 방판업체發 n차 감염</td>\n",
       "      <td>관련 확진자 총 38명에 달해 \\n\\n전남 확진 64.8%가 순천시민\\n\\n수도권에...</td>\n",
       "      <td>https://news.naver.com/main/read.nhn?mode=LPOD...</td>\n",
       "      <td>문화일보</td>\n",
       "      <td>2020-08-31</td>\n",
       "      <td>진자, 전남, 확진, 순천, 시민, 수도권, 전국, 확산, 유행, 신종, 코로나바이...</td>\n",
       "      <td>대구, 교회, 비상, 순천, 방판, 업체, 감염</td>\n",
       "      <td>0</td>\n",
       "    </tr>\n",
       "    <tr>\n",
       "      <th>28941</th>\n",
       "      <td>중증환자 수용 병상, 더이상 여유 없다</td>\n",
       "      <td>수도권 여유 병상 10개 불과 \\n\\n앞으로 5일내 병상 동날듯\\n\\n신종 코로나바...</td>\n",
       "      <td>https://news.naver.com/main/read.nhn?mode=LPOD...</td>\n",
       "      <td>문화일보</td>\n",
       "      <td>2020-08-31</td>\n",
       "      <td>수도권, 여유, 병상, 불과, 앞, 병상, 날듯, 신종, 코로나바이러스, 감염증, ...</td>\n",
       "      <td>중증, 환자, 수용, 병상, 여유</td>\n",
       "      <td>0</td>\n",
       "    </tr>\n",
       "    <tr>\n",
       "      <th>28943</th>\n",
       "      <td>블라인드 치고 꼼수영업… 편의점앞 술판… 대면예배 고수</td>\n",
       "      <td>- 곳곳서 방역수칙 위반\\n\\n편의점앞 자리없어 돌아가기도\\n\\n서울시, 음식점 특...</td>\n",
       "      <td>https://news.naver.com/main/read.nhn?mode=LPOD...</td>\n",
       "      <td>문화일보</td>\n",
       "      <td>2020-08-31</td>\n",
       "      <td>곳곳, 방역, 칙, 위반, 편의점, 앞, 자리, 서울시, 음식점, 특별, 전수, 점...</td>\n",
       "      <td>블라인드, 꼼수, 영업, 편의점, 앞, 술판, 대면, 예배, 고수</td>\n",
       "      <td>0</td>\n",
       "    </tr>\n",
       "    <tr>\n",
       "      <th>28945</th>\n",
       "      <td>민주당, 2차 재난지원금 지급·4차 추경 논의 가속도</td>\n",
       "      <td>이르면 내일 고위 당정청 개최\\n\\n추석 민생대책으로 내놓을수도\\n\\n더불어민주당이...</td>\n",
       "      <td>https://news.naver.com/main/read.nhn?mode=LPOD...</td>\n",
       "      <td>문화일보</td>\n",
       "      <td>2020-08-31</td>\n",
       "      <td>내일, 고위, 정청, 개최, 추석, 민생, 대책, 민주당, 재난, 원금, 지급, 추...</td>\n",
       "      <td>민주당, 재난, 원금, 지급, 추경, 논의, 가속도</td>\n",
       "      <td>0</td>\n",
       "    </tr>\n",
       "    <tr>\n",
       "      <th>29040</th>\n",
       "      <td>\"제자 한명이라도 피해 입으면 집단휴진\" 의대 교수까지 화났다</td>\n",
       "      <td>전공의들의 집단휴업을 둘러싼 의ㆍ정 갈등이 고조되는 가운데 의료현장을 책임지는 의대...</td>\n",
       "      <td>https://news.naver.com/main/read.nhn?mode=LPOD...</td>\n",
       "      <td>한국일보</td>\n",
       "      <td>2020-08-31</td>\n",
       "      <td>집단, 휴업, 갈등, 고조, 가운데, 의료, 현장, 의대, 교수, 후배, 의사, 행...</td>\n",
       "      <td>제자, 피해, 집단, 의대, 교수</td>\n",
       "      <td>0</td>\n",
       "    </tr>\n",
       "  </tbody>\n",
       "</table>\n",
       "<p>28853 rows × 8 columns</p>\n",
       "</div>"
      ],
      "text/plain": [
       "                                      title  \\\n",
       "0                 무너지는 일과 삶의 경계···노동이 녹아내린다   \n",
       "61     \"기자는 진실의 목격자, 우릴 믿어야할 이유를 독자에게 증명하라\"   \n",
       "60      가짜가 진짜보다 6배 빨리 퍼진다… 인류 파괴하는 '거짓 정보'   \n",
       "59                  \"진짜뉴스는 비싸다, 때론 목숨까지 건다\"   \n",
       "58            \"아들 美대학 시험, 조국부부가 대신 풀어줘 A학점\"   \n",
       "...                                     ...   \n",
       "28940       대구, 또 ‘교회發’ 비상… 순천선 방판업체發 n차 감염   \n",
       "28941                 중증환자 수용 병상, 더이상 여유 없다   \n",
       "28943        블라인드 치고 꼼수영업… 편의점앞 술판… 대면예배 고수   \n",
       "28945         민주당, 2차 재난지원금 지급·4차 추경 논의 가속도   \n",
       "29040    \"제자 한명이라도 피해 입으면 집단휴진\" 의대 교수까지 화났다   \n",
       "\n",
       "                                                    text  \\\n",
       "0      이 땅에서 ‘비정규직’이라는 표현이 광범위하게 쓰인 지 20여년. 정부가 신규 일자...   \n",
       "61     [조선일보 100년 / 진실의 수호자들] 영화 '스포트라이트' 실제인물 마틴 배런 ...   \n",
       "60     [조선일보 100년 / 진실의 수호자들] [1] 저널리즘의 도전: 민주주의를 위협하...   \n",
       "59     [조선일보 100년 / 진실의 수호자들] [1] 저널리즘의 도전: 민주주의를 위협하...   \n",
       "58     檢 \"아들이 문제 사진찍어 보내면 부부가 답안 적어 다시 美 보내… 美대학 장학증명...   \n",
       "...                                                  ...   \n",
       "28940  관련 확진자 총 38명에 달해 \\n\\n전남 확진 64.8%가 순천시민\\n\\n수도권에...   \n",
       "28941  수도권 여유 병상 10개 불과 \\n\\n앞으로 5일내 병상 동날듯\\n\\n신종 코로나바...   \n",
       "28943  - 곳곳서 방역수칙 위반\\n\\n편의점앞 자리없어 돌아가기도\\n\\n서울시, 음식점 특...   \n",
       "28945  이르면 내일 고위 당정청 개최\\n\\n추석 민생대책으로 내놓을수도\\n\\n더불어민주당이...   \n",
       "29040  전공의들의 집단휴업을 둘러싼 의ㆍ정 갈등이 고조되는 가운데 의료현장을 책임지는 의대...   \n",
       "\n",
       "                                                     url media        date  \\\n",
       "0      https://news.naver.com/main/read.nhn?mode=LPOD...  경향신문  2020-01-01   \n",
       "61     https://news.naver.com/main/read.nhn?mode=LPOD...  조선일보  2020-01-01   \n",
       "60     https://news.naver.com/main/read.nhn?mode=LPOD...  조선일보  2020-01-01   \n",
       "59     https://news.naver.com/main/read.nhn?mode=LPOD...  조선일보  2020-01-01   \n",
       "58     https://news.naver.com/main/read.nhn?mode=LPOD...  조선일보  2020-01-01   \n",
       "...                                                  ...   ...         ...   \n",
       "28940  https://news.naver.com/main/read.nhn?mode=LPOD...  문화일보  2020-08-31   \n",
       "28941  https://news.naver.com/main/read.nhn?mode=LPOD...  문화일보  2020-08-31   \n",
       "28943  https://news.naver.com/main/read.nhn?mode=LPOD...  문화일보  2020-08-31   \n",
       "28945  https://news.naver.com/main/read.nhn?mode=LPOD...  문화일보  2020-08-31   \n",
       "29040  https://news.naver.com/main/read.nhn?mode=LPOD...  한국일보  2020-08-31   \n",
       "\n",
       "                                                  text_V  \\\n",
       "0      비정규직, 표현, 정부, 신규, 일자리, 비정규직, 정규직, 전환, 주력, 사이, ...   \n",
       "61     진실, 호자, 영화, 스포트라이트, 실제, 인물, 마틴, 배런, 편집국, 인터뷰, ...   \n",
       "60     진실, 호자, 저널리즘, 도전, 민주주의, 위협, 가짜, 전쟁, 대선, 힐러리, 아...   \n",
       "59     진실, 호자, 저널리즘, 도전, 민주주의, 위협, 가짜, 전쟁, 거짓, 정보, 손가...   \n",
       "58     아들, 문제, 사진, 부부, 답안, 다시, 대학, 장학, 증명서, 위조, 국회, 제...   \n",
       "...                                                  ...   \n",
       "28940  진자, 전남, 확진, 순천, 시민, 수도권, 전국, 확산, 유행, 신종, 코로나바이...   \n",
       "28941  수도권, 여유, 병상, 불과, 앞, 병상, 날듯, 신종, 코로나바이러스, 감염증, ...   \n",
       "28943  곳곳, 방역, 칙, 위반, 편의점, 앞, 자리, 서울시, 음식점, 특별, 전수, 점...   \n",
       "28945  내일, 고위, 정청, 개최, 추석, 민생, 대책, 민주당, 재난, 원금, 지급, 추...   \n",
       "29040  집단, 휴업, 갈등, 고조, 가운데, 의료, 현장, 의대, 교수, 후배, 의사, 행...   \n",
       "\n",
       "                                    title_V  dbscan_cluster  \n",
       "0                                일과, 경계, 노동               0  \n",
       "61              기자, 진실, 목격자, 우릴, 이유, 독자, 증명               0  \n",
       "60                   가짜, 진짜, 인류, 파괴, 거짓, 정보               0  \n",
       "59                           진짜, 뉴스, 때론, 목숨               0  \n",
       "58               아들, 대학, 시험, 조국, 부부, 대신, 학점               0  \n",
       "...                                     ...             ...  \n",
       "28940            대구, 교회, 비상, 순천, 방판, 업체, 감염               0  \n",
       "28941                    중증, 환자, 수용, 병상, 여유               0  \n",
       "28943  블라인드, 꼼수, 영업, 편의점, 앞, 술판, 대면, 예배, 고수               0  \n",
       "28945          민주당, 재난, 원금, 지급, 추경, 논의, 가속도               0  \n",
       "29040                    제자, 피해, 집단, 의대, 교수               0  \n",
       "\n",
       "[28853 rows x 8 columns]"
      ]
     },
     "execution_count": 47,
     "metadata": {},
     "output_type": "execute_result"
    }
   ],
   "source": [
    "df_tmp[df_tmp['dbscan_cluster']==0].sort_values(by='date')"
   ]
  },
  {
   "cell_type": "code",
   "execution_count": 48,
   "metadata": {},
   "outputs": [
    {
     "data": {
      "text/html": [
       "<div>\n",
       "<style scoped>\n",
       "    .dataframe tbody tr th:only-of-type {\n",
       "        vertical-align: middle;\n",
       "    }\n",
       "\n",
       "    .dataframe tbody tr th {\n",
       "        vertical-align: top;\n",
       "    }\n",
       "\n",
       "    .dataframe thead th {\n",
       "        text-align: right;\n",
       "    }\n",
       "</style>\n",
       "<table border=\"1\" class=\"dataframe\">\n",
       "  <thead>\n",
       "    <tr style=\"text-align: right;\">\n",
       "      <th></th>\n",
       "      <th>title</th>\n",
       "      <th>text</th>\n",
       "      <th>url</th>\n",
       "      <th>media</th>\n",
       "      <th>date</th>\n",
       "      <th>text_V</th>\n",
       "      <th>title_V</th>\n",
       "      <th>dbscan_cluster</th>\n",
       "    </tr>\n",
       "  </thead>\n",
       "  <tbody>\n",
       "    <tr>\n",
       "      <th>39</th>\n",
       "      <td>[알립니다] 2020 세계일보 신춘문예 당선작</td>\n",
       "      <td>2020 세계일보 신춘문예 당선작을 아래와 같이 공지합니다. 응모해 주신 모든 분들...</td>\n",
       "      <td>https://news.naver.com/main/read.nhn?mode=LPOD...</td>\n",
       "      <td>세계일보</td>\n",
       "      <td>2020-01-01</td>\n",
       "      <td>세계, 신춘문예, 당선, 아래, 공지, 응모, 주신, 모든, 분, 감사, 단편소설,...</td>\n",
       "      <td>세계, 신춘문예, 당선</td>\n",
       "      <td>1</td>\n",
       "    </tr>\n",
       "    <tr>\n",
       "      <th>79</th>\n",
       "      <td>[알립니다] 2020 한국일보 신춘문예 당선자 선정</td>\n",
       "      <td>2020년 한국일보 신춘문예 5개 부문 당선자 5명이 선정됐습니다. 한국 문학의 미...</td>\n",
       "      <td>https://news.naver.com/main/read.nhn?mode=LPOD...</td>\n",
       "      <td>한국일보</td>\n",
       "      <td>2020-01-01</td>\n",
       "      <td>한국, 신춘문예, 부문, 당선자, 선정, 한국, 문학, 미래, 작가, 탄생, 축하,...</td>\n",
       "      <td>한국, 신춘문예, 당선자, 선정</td>\n",
       "      <td>1</td>\n",
       "    </tr>\n",
       "    <tr>\n",
       "      <th>200</th>\n",
       "      <td>트럼프 “김정은 약속 지키는 사람” 레드라인 이탈 방지 거듭 촉구</td>\n",
       "      <td>北 전원회의 金 “새 전략무기” 발언에 ‘비핵화 약속’ 환기\\n\\n좋은 관계 강조ㆍ...</td>\n",
       "      <td>https://news.naver.com/main/read.nhn?mode=LPOD...</td>\n",
       "      <td>한국일보</td>\n",
       "      <td>2020-01-02</td>\n",
       "      <td>전원, 회의, 전략, 무기, 발언, 비핵화, 약속, 환기, 관계, 강조, 파장, 최...</td>\n",
       "      <td>트럼프, 김정은, 약속, 사람, 레드라인, 이탈, 방지, 거듭, 촉구</td>\n",
       "      <td>1</td>\n",
       "    </tr>\n",
       "    <tr>\n",
       "      <th>201</th>\n",
       "      <td>美전문가들 “北 ICBM 위협은 양보 얻으려는 치킨게임 전술”</td>\n",
       "      <td>“김정은 위협, 트럼프엔 안 통해… 더 강한 제재 역효과만 낼 것”\\n\\n\\n\\n미...</td>\n",
       "      <td>https://news.naver.com/main/read.nhn?mode=LPOD...</td>\n",
       "      <td>한국일보</td>\n",
       "      <td>2020-01-02</td>\n",
       "      <td>김정은, 위협, 트럼프, 제재, 역효과, 낼, 미국, 한반도, 전문가, 김정은, 북...</td>\n",
       "      <td>전문가, 위협, 양보, 치킨게임, 전술</td>\n",
       "      <td>1</td>\n",
       "    </tr>\n",
       "    <tr>\n",
       "      <th>375</th>\n",
       "      <td>“北·美 갈등 완화 韓 역할 중요… 북핵 금방 풀릴 일 아니다” [동북아 정세 전망]</td>\n",
       "      <td>쑤하오 中 외교학원 교수 인터뷰 / 2020년 北·美관계 교착 지속 가능성 높아/ ...</td>\n",
       "      <td>https://news.naver.com/main/read.nhn?mode=LPOD...</td>\n",
       "      <td>세계일보</td>\n",
       "      <td>2020-01-04</td>\n",
       "      <td>쑤하오, 외교학, 교수, 인터뷰, 관계, 교착, 지속, 가능성, 양국, 극단, 도발...</td>\n",
       "      <td>갈등, 완화, 역할, 중요, 북핵, 금방, 동북아, 정세, 전망</td>\n",
       "      <td>1</td>\n",
       "    </tr>\n",
       "    <tr>\n",
       "      <th>...</th>\n",
       "      <td>...</td>\n",
       "      <td>...</td>\n",
       "      <td>...</td>\n",
       "      <td>...</td>\n",
       "      <td>...</td>\n",
       "      <td>...</td>\n",
       "      <td>...</td>\n",
       "      <td>...</td>\n",
       "    </tr>\n",
       "    <tr>\n",
       "      <th>27975</th>\n",
       "      <td>3수 끝에 대선행… 바이든 “독재자 비위 안 맞추고 동맹·우방 함께할 것”</td>\n",
       "      <td>바이든 美 민주당 대선후보 수락 연설\\n트럼프 외교·안보 정책에 비판 목소리\\n\\n...</td>\n",
       "      <td>https://news.naver.com/main/read.nhn?mode=LPOD...</td>\n",
       "      <td>세계일보</td>\n",
       "      <td>2020-08-22</td>\n",
       "      <td>바이든, 민주당, 대선, 후보, 수락, 연설, 트럼프, 외교, 안보, 정책, 비판,...</td>\n",
       "      <td>선행, 바이든, 독재자, 비위, 동맹, 우방</td>\n",
       "      <td>1</td>\n",
       "    </tr>\n",
       "    <tr>\n",
       "      <th>27980</th>\n",
       "      <td>바이든, 정치 입문 50년 만에 대권 도전… 단합과 지지 호소</td>\n",
       "      <td>美 민주당 전대 마지막 날… 대선후보 수락 연설 안팎\\n트럼프 겨냥 ‘암흑의 시절’...</td>\n",
       "      <td>https://news.naver.com/main/read.nhn?mode=LPOD...</td>\n",
       "      <td>세계일보</td>\n",
       "      <td>2020-08-22</td>\n",
       "      <td>민주당, 전대, 마지막, 대선, 후보, 수락, 연설, 안팎, 트럼프, 겨냥, 암흑,...</td>\n",
       "      <td>바이든, 정치, 입문, 대권, 도전, 단합, 지지, 호소</td>\n",
       "      <td>1</td>\n",
       "    </tr>\n",
       "    <tr>\n",
       "      <th>28841</th>\n",
       "      <td>한·일 관계 정치적 이용 최악… 잇단 실정·지병에 결국 굴복 [뉴스 투데이]</td>\n",
       "      <td>총리직서 물러나는 아베\\n측근들도 사전에 파악 못한 듯 \\n위안부·수출 규제 등 갈...</td>\n",
       "      <td>https://news.naver.com/main/read.nhn?mode=LPOD...</td>\n",
       "      <td>세계일보</td>\n",
       "      <td>2020-08-29</td>\n",
       "      <td>총리, 직서, 아베, 측근, 사전, 파악, 위안부, 수출, 규제, 갈등, 코로나, ...</td>\n",
       "      <td>관계, 정치, 이용, 최악, 실정, 지병, 굴복, 뉴스, 투데이</td>\n",
       "      <td>1</td>\n",
       "    </tr>\n",
       "    <tr>\n",
       "      <th>28840</th>\n",
       "      <td>‘포스트 아베’ 스가·이시바 등 거론</td>\n",
       "      <td>자민당 총재 선거전 돌입\\n기시다·고노 등도 물망에 올라 \\n내달 1일 당 총무회서...</td>\n",
       "      <td>https://news.naver.com/main/read.nhn?mode=LPOD...</td>\n",
       "      <td>세계일보</td>\n",
       "      <td>2020-08-29</td>\n",
       "      <td>자민당, 총재, 선거, 돌입, 물망, 내달, 총무, 회서, 선출, 논의, 스, 히데...</td>\n",
       "      <td>포스트, 아베, 스, 시바, 거론</td>\n",
       "      <td>1</td>\n",
       "    </tr>\n",
       "    <tr>\n",
       "      <th>29030</th>\n",
       "      <td>[알립니다]한국일보 78기 견습기자 합격자</td>\n",
       "      <td>김현민 박재연 우태경 원동희 이정원 최다원\\n\\n\\n\\n▶ \\n\\n▶ \\n\\n▶</td>\n",
       "      <td>https://news.naver.com/main/read.nhn?mode=LPOD...</td>\n",
       "      <td>한국일보</td>\n",
       "      <td>2020-08-31</td>\n",
       "      <td>김현민, 박재연, 우태, 원동, 이정원</td>\n",
       "      <td>한국, 견습, 기자, 합격자</td>\n",
       "      <td>1</td>\n",
       "    </tr>\n",
       "  </tbody>\n",
       "</table>\n",
       "<p>188 rows × 8 columns</p>\n",
       "</div>"
      ],
      "text/plain": [
       "                                                 title  \\\n",
       "39                           [알립니다] 2020 세계일보 신춘문예 당선작   \n",
       "79                        [알립니다] 2020 한국일보 신춘문예 당선자 선정   \n",
       "200               트럼프 “김정은 약속 지키는 사람” 레드라인 이탈 방지 거듭 촉구   \n",
       "201                 美전문가들 “北 ICBM 위협은 양보 얻으려는 치킨게임 전술”   \n",
       "375    “北·美 갈등 완화 韓 역할 중요… 북핵 금방 풀릴 일 아니다” [동북아 정세 전망]   \n",
       "...                                                ...   \n",
       "27975        3수 끝에 대선행… 바이든 “독재자 비위 안 맞추고 동맹·우방 함께할 것”   \n",
       "27980               바이든, 정치 입문 50년 만에 대권 도전… 단합과 지지 호소   \n",
       "28841       한·일 관계 정치적 이용 최악… 잇단 실정·지병에 결국 굴복 [뉴스 투데이]   \n",
       "28840                             ‘포스트 아베’ 스가·이시바 등 거론   \n",
       "29030                          [알립니다]한국일보 78기 견습기자 합격자   \n",
       "\n",
       "                                                    text  \\\n",
       "39     2020 세계일보 신춘문예 당선작을 아래와 같이 공지합니다. 응모해 주신 모든 분들...   \n",
       "79     2020년 한국일보 신춘문예 5개 부문 당선자 5명이 선정됐습니다. 한국 문학의 미...   \n",
       "200    北 전원회의 金 “새 전략무기” 발언에 ‘비핵화 약속’ 환기\\n\\n좋은 관계 강조ㆍ...   \n",
       "201    “김정은 위협, 트럼프엔 안 통해… 더 강한 제재 역효과만 낼 것”\\n\\n\\n\\n미...   \n",
       "375    쑤하오 中 외교학원 교수 인터뷰 / 2020년 北·美관계 교착 지속 가능성 높아/ ...   \n",
       "...                                                  ...   \n",
       "27975  바이든 美 민주당 대선후보 수락 연설\\n트럼프 외교·안보 정책에 비판 목소리\\n\\n...   \n",
       "27980  美 민주당 전대 마지막 날… 대선후보 수락 연설 안팎\\n트럼프 겨냥 ‘암흑의 시절’...   \n",
       "28841  총리직서 물러나는 아베\\n측근들도 사전에 파악 못한 듯 \\n위안부·수출 규제 등 갈...   \n",
       "28840  자민당 총재 선거전 돌입\\n기시다·고노 등도 물망에 올라 \\n내달 1일 당 총무회서...   \n",
       "29030       김현민 박재연 우태경 원동희 이정원 최다원\\n\\n\\n\\n▶ \\n\\n▶ \\n\\n▶   \n",
       "\n",
       "                                                     url media        date  \\\n",
       "39     https://news.naver.com/main/read.nhn?mode=LPOD...  세계일보  2020-01-01   \n",
       "79     https://news.naver.com/main/read.nhn?mode=LPOD...  한국일보  2020-01-01   \n",
       "200    https://news.naver.com/main/read.nhn?mode=LPOD...  한국일보  2020-01-02   \n",
       "201    https://news.naver.com/main/read.nhn?mode=LPOD...  한국일보  2020-01-02   \n",
       "375    https://news.naver.com/main/read.nhn?mode=LPOD...  세계일보  2020-01-04   \n",
       "...                                                  ...   ...         ...   \n",
       "27975  https://news.naver.com/main/read.nhn?mode=LPOD...  세계일보  2020-08-22   \n",
       "27980  https://news.naver.com/main/read.nhn?mode=LPOD...  세계일보  2020-08-22   \n",
       "28841  https://news.naver.com/main/read.nhn?mode=LPOD...  세계일보  2020-08-29   \n",
       "28840  https://news.naver.com/main/read.nhn?mode=LPOD...  세계일보  2020-08-29   \n",
       "29030  https://news.naver.com/main/read.nhn?mode=LPOD...  한국일보  2020-08-31   \n",
       "\n",
       "                                                  text_V  \\\n",
       "39     세계, 신춘문예, 당선, 아래, 공지, 응모, 주신, 모든, 분, 감사, 단편소설,...   \n",
       "79     한국, 신춘문예, 부문, 당선자, 선정, 한국, 문학, 미래, 작가, 탄생, 축하,...   \n",
       "200    전원, 회의, 전략, 무기, 발언, 비핵화, 약속, 환기, 관계, 강조, 파장, 최...   \n",
       "201    김정은, 위협, 트럼프, 제재, 역효과, 낼, 미국, 한반도, 전문가, 김정은, 북...   \n",
       "375    쑤하오, 외교학, 교수, 인터뷰, 관계, 교착, 지속, 가능성, 양국, 극단, 도발...   \n",
       "...                                                  ...   \n",
       "27975  바이든, 민주당, 대선, 후보, 수락, 연설, 트럼프, 외교, 안보, 정책, 비판,...   \n",
       "27980  민주당, 전대, 마지막, 대선, 후보, 수락, 연설, 안팎, 트럼프, 겨냥, 암흑,...   \n",
       "28841  총리, 직서, 아베, 측근, 사전, 파악, 위안부, 수출, 규제, 갈등, 코로나, ...   \n",
       "28840  자민당, 총재, 선거, 돌입, 물망, 내달, 총무, 회서, 선출, 논의, 스, 히데...   \n",
       "29030                              김현민, 박재연, 우태, 원동, 이정원   \n",
       "\n",
       "                                      title_V  dbscan_cluster  \n",
       "39                               세계, 신춘문예, 당선               1  \n",
       "79                          한국, 신춘문예, 당선자, 선정               1  \n",
       "200    트럼프, 김정은, 약속, 사람, 레드라인, 이탈, 방지, 거듭, 촉구               1  \n",
       "201                     전문가, 위협, 양보, 치킨게임, 전술               1  \n",
       "375       갈등, 완화, 역할, 중요, 북핵, 금방, 동북아, 정세, 전망               1  \n",
       "...                                       ...             ...  \n",
       "27975                선행, 바이든, 독재자, 비위, 동맹, 우방               1  \n",
       "27980         바이든, 정치, 입문, 대권, 도전, 단합, 지지, 호소               1  \n",
       "28841     관계, 정치, 이용, 최악, 실정, 지병, 굴복, 뉴스, 투데이               1  \n",
       "28840                      포스트, 아베, 스, 시바, 거론               1  \n",
       "29030                         한국, 견습, 기자, 합격자               1  \n",
       "\n",
       "[188 rows x 8 columns]"
      ]
     },
     "execution_count": 48,
     "metadata": {},
     "output_type": "execute_result"
    }
   ],
   "source": [
    "df_tmp[df_tmp['dbscan_cluster']==1].sort_values(by='date')"
   ]
  },
  {
   "cell_type": "code",
   "execution_count": 49,
   "metadata": {},
   "outputs": [
    {
     "data": {
      "text/html": [
       "<div>\n",
       "<style scoped>\n",
       "    .dataframe tbody tr th:only-of-type {\n",
       "        vertical-align: middle;\n",
       "    }\n",
       "\n",
       "    .dataframe tbody tr th {\n",
       "        vertical-align: top;\n",
       "    }\n",
       "\n",
       "    .dataframe thead th {\n",
       "        text-align: right;\n",
       "    }\n",
       "</style>\n",
       "<table border=\"1\" class=\"dataframe\">\n",
       "  <thead>\n",
       "    <tr style=\"text-align: right;\">\n",
       "      <th></th>\n",
       "      <th>title</th>\n",
       "      <th>text</th>\n",
       "      <th>url</th>\n",
       "      <th>media</th>\n",
       "      <th>date</th>\n",
       "      <th>text_V</th>\n",
       "      <th>title_V</th>\n",
       "      <th>dbscan_cluster</th>\n",
       "    </tr>\n",
       "  </thead>\n",
       "  <tbody>\n",
       "  </tbody>\n",
       "</table>\n",
       "</div>"
      ],
      "text/plain": [
       "Empty DataFrame\n",
       "Columns: [title, text, url, media, date, text_V, title_V, dbscan_cluster]\n",
       "Index: []"
      ]
     },
     "execution_count": 49,
     "metadata": {},
     "output_type": "execute_result"
    }
   ],
   "source": [
    "df_tmp[df_tmp['dbscan_cluster']==-1].sort_values(by='date')"
   ]
  },
  {
   "cell_type": "code",
   "execution_count": 50,
   "metadata": {},
   "outputs": [
    {
     "data": {
      "text/html": [
       "<div>\n",
       "<style scoped>\n",
       "    .dataframe tbody tr th:only-of-type {\n",
       "        vertical-align: middle;\n",
       "    }\n",
       "\n",
       "    .dataframe tbody tr th {\n",
       "        vertical-align: top;\n",
       "    }\n",
       "\n",
       "    .dataframe thead th {\n",
       "        text-align: right;\n",
       "    }\n",
       "</style>\n",
       "<table border=\"1\" class=\"dataframe\">\n",
       "  <thead>\n",
       "    <tr style=\"text-align: right;\">\n",
       "      <th></th>\n",
       "      <th>title</th>\n",
       "      <th>text</th>\n",
       "      <th>url</th>\n",
       "      <th>media</th>\n",
       "      <th>date</th>\n",
       "      <th>text_V</th>\n",
       "      <th>title_V</th>\n",
       "      <th>dbscan_cluster</th>\n",
       "    </tr>\n",
       "  </thead>\n",
       "  <tbody>\n",
       "  </tbody>\n",
       "</table>\n",
       "</div>"
      ],
      "text/plain": [
       "Empty DataFrame\n",
       "Columns: [title, text, url, media, date, text_V, title_V, dbscan_cluster]\n",
       "Index: []"
      ]
     },
     "execution_count": 50,
     "metadata": {},
     "output_type": "execute_result"
    }
   ],
   "source": [
    "df_tmp[df_tmp['dbscan_cluster']==2].sort_values(by='date')"
   ]
  },
  {
   "cell_type": "code",
   "execution_count": 51,
   "metadata": {},
   "outputs": [
    {
     "data": {
      "text/html": [
       "<div>\n",
       "<style scoped>\n",
       "    .dataframe tbody tr th:only-of-type {\n",
       "        vertical-align: middle;\n",
       "    }\n",
       "\n",
       "    .dataframe tbody tr th {\n",
       "        vertical-align: top;\n",
       "    }\n",
       "\n",
       "    .dataframe thead th {\n",
       "        text-align: right;\n",
       "    }\n",
       "</style>\n",
       "<table border=\"1\" class=\"dataframe\">\n",
       "  <thead>\n",
       "    <tr style=\"text-align: right;\">\n",
       "      <th></th>\n",
       "      <th>title</th>\n",
       "      <th>text</th>\n",
       "      <th>url</th>\n",
       "      <th>media</th>\n",
       "      <th>date</th>\n",
       "      <th>text_V</th>\n",
       "      <th>title_V</th>\n",
       "      <th>dbscan_cluster</th>\n",
       "    </tr>\n",
       "  </thead>\n",
       "  <tbody>\n",
       "  </tbody>\n",
       "</table>\n",
       "</div>"
      ],
      "text/plain": [
       "Empty DataFrame\n",
       "Columns: [title, text, url, media, date, text_V, title_V, dbscan_cluster]\n",
       "Index: []"
      ]
     },
     "execution_count": 51,
     "metadata": {},
     "output_type": "execute_result"
    }
   ],
   "source": [
    "df_tmp[df_tmp['dbscan_cluster']==3].sort_values(by='date')"
   ]
  },
  {
   "cell_type": "code",
   "execution_count": 52,
   "metadata": {},
   "outputs": [
    {
     "data": {
      "text/html": [
       "<div>\n",
       "<style scoped>\n",
       "    .dataframe tbody tr th:only-of-type {\n",
       "        vertical-align: middle;\n",
       "    }\n",
       "\n",
       "    .dataframe tbody tr th {\n",
       "        vertical-align: top;\n",
       "    }\n",
       "\n",
       "    .dataframe thead th {\n",
       "        text-align: right;\n",
       "    }\n",
       "</style>\n",
       "<table border=\"1\" class=\"dataframe\">\n",
       "  <thead>\n",
       "    <tr style=\"text-align: right;\">\n",
       "      <th></th>\n",
       "      <th>title</th>\n",
       "      <th>text</th>\n",
       "      <th>url</th>\n",
       "      <th>media</th>\n",
       "      <th>date</th>\n",
       "      <th>text_V</th>\n",
       "      <th>title_V</th>\n",
       "      <th>dbscan_cluster</th>\n",
       "    </tr>\n",
       "  </thead>\n",
       "  <tbody>\n",
       "  </tbody>\n",
       "</table>\n",
       "</div>"
      ],
      "text/plain": [
       "Empty DataFrame\n",
       "Columns: [title, text, url, media, date, text_V, title_V, dbscan_cluster]\n",
       "Index: []"
      ]
     },
     "execution_count": 52,
     "metadata": {},
     "output_type": "execute_result"
    }
   ],
   "source": [
    "df_tmp[df_tmp['dbscan_cluster']==4].sort_values(by='date')"
   ]
  },
  {
   "cell_type": "code",
   "execution_count": 53,
   "metadata": {},
   "outputs": [
    {
     "data": {
      "text/plain": [
       "{0, 1}"
      ]
     },
     "execution_count": 53,
     "metadata": {},
     "output_type": "execute_result"
    }
   ],
   "source": [
    "aa = set(df_tmp['dbscan_cluster'])\n",
    "aa"
   ]
  },
  {
   "cell_type": "code",
   "execution_count": 54,
   "metadata": {},
   "outputs": [],
   "source": [
    "# # 군집별 top n 핵심단어, 그 단어의 중심 위치 상대값, 대상 파일명들을 반환함. \n",
    "# def get_cluster_details(cluster_model, cluster_data, feature_names, clusters_num, top_n_features=10):\n",
    "#     cluster_details = {}\n",
    "    \n",
    "#     # cluster_centers array 의 값이 큰 순으로 정렬된 index 값을 반환\n",
    "#     # 군집 중심점(centroid)별 할당된 word 피처들의 거리값이 큰 순으로 값을 구하기 위함.  \n",
    "#     centroid_feature_ordered_ind = cluster_model.cluster_centers_.argsort()[:,::-1]\n",
    "    \n",
    "#     #개별 군집별로 iteration하면서 핵심단어, 그 단어의 중심 위치 상대값, 대상 파일명 입력\n",
    "#     for cluster_num in range(clusters_num):\n",
    "#         # 개별 군집별 정보를 담을 데이터 초기화. \n",
    "#         cluster_details[cluster_num] = {}\n",
    "#         cluster_details[cluster_num]['cluster'] = cluster_num\n",
    "        \n",
    "#         # cluster_centers_.argsort()[:,::-1] 로 구한 index 를 이용하여 top n 피처 단어를 구함. \n",
    "#         top_feature_indexes = centroid_feature_ordered_ind[cluster_num, :top_n_features]\n",
    "#         top_features = [ feature_names[ind] for ind in top_feature_indexes ]\n",
    "        \n",
    "#         # top_feature_indexes를 이용해 해당 피처 단어의 중심 위치 상댓값 구함 \n",
    "#         top_feature_values = cluster_model.cluster_centers_[cluster_num, top_feature_indexes].tolist()\n",
    "        \n",
    "#         # cluster_details 딕셔너리 객체에 개별 군집별 핵심 단어와 중심위치 상대값, 그리고 해당 파일명 입력\n",
    "#         cluster_details[cluster_num]['top_features'] = top_features\n",
    "#         cluster_details[cluster_num]['top_features_value'] = top_feature_values\n",
    "#         filenames = cluster_data[cluster_data['cluster_label'] == cluster_num]['text']\n",
    "#         filenames = filenames.values.tolist()\n",
    "#         cluster_details[cluster_num]['filenames'] = filenames\n",
    "        \n",
    "#     return cluster_details"
   ]
  },
  {
   "cell_type": "code",
   "execution_count": 55,
   "metadata": {},
   "outputs": [
    {
     "name": "stdout",
     "output_type": "stream",
     "text": [
      "클러스터 레이블:\n",
      "[0 0 0 ... 0 0 0]\n"
     ]
    }
   ],
   "source": [
    "print(\"클러스터 레이블:\\n{}\".format(dbscan_labels))"
   ]
  },
  {
   "cell_type": "code",
   "execution_count": 56,
   "metadata": {},
   "outputs": [
    {
     "name": "stdout",
     "output_type": "stream",
     "text": [
      "silhouette_samples return 값의 shape (29041,)\n"
     ]
    }
   ],
   "source": [
    "score_samples = silhouette_samples(feature_vect, df_tmp['dbscan_cluster'])\n",
    "print('silhouette_samples return 값의 shape' , score_samples.shape)"
   ]
  },
  {
   "cell_type": "code",
   "execution_count": 57,
   "metadata": {},
   "outputs": [],
   "source": [
    "# 모든 데이터의 평균 실루엣 계수를 구함\n",
    "average_score = silhouette_score(feature_vect, df_tmp['dbscan_cluster'])"
   ]
  },
  {
   "cell_type": "code",
   "execution_count": 58,
   "metadata": {},
   "outputs": [
    {
     "name": "stdout",
     "output_type": "stream",
     "text": [
      "뉴스 타이틀 Silhouette Analysis Score:0.236\n"
     ]
    },
    {
     "data": {
      "text/plain": [
       "0        0\n",
       "1        0\n",
       "2        0\n",
       "3        0\n",
       "4        0\n",
       "        ..\n",
       "29036    0\n",
       "29037    0\n",
       "29038    0\n",
       "29039    0\n",
       "29040    0\n",
       "Name: dbscan_cluster, Length: 29041, dtype: int64"
      ]
     },
     "execution_count": 58,
     "metadata": {},
     "output_type": "execute_result"
    }
   ],
   "source": [
    "print('뉴스 타이틀 Silhouette Analysis Score:{0:.3f}'.format(average_score))\n",
    "df_tmp['dbscan_cluster']"
   ]
  },
  {
   "cell_type": "code",
   "execution_count": 59,
   "metadata": {},
   "outputs": [
    {
     "data": {
      "text/plain": [
       "0                           무너지는 일과 삶의 경계···노동이 녹아내린다\n",
       "1                일자리 아닌 일거리···'일정치 않음'을 살다 [녹아내리는 노동]\n",
       "2          이곳은…기계의 정확도 높이는 ‘인간부품’ 육성공장 아닐까 [녹아내리는 노동]\n",
       "3                              지혜씨, 지훈씨를 부탁해! [인포그래픽]\n",
       "4                [20대 리포트] “20대, 함부로 판단말라… 내 길 내가 간다”\n",
       "                             ...                     \n",
       "29036             \"2.5단계로 무급휴가 요구\"… 코로나 재유행에 살아난 '갑질'\n",
       "29037    모호한 조치ㆍ 깜깜이 환자 비율 40%육박... 거리두기 2.5단계 효과 있을까\n",
       "29038            내일부터 서울 시내버스 밤 9시 이후 20% 감축… 주말 수준으로\n",
       "29039      집단휴업 두고 전공의 vs 정부 '강대강 대치'... 의료공백 장기화 불가피\n",
       "29040              \"제자 한명이라도 피해 입으면 집단휴진\" 의대 교수까지 화났다\n",
       "Name: title, Length: 28853, dtype: object"
      ]
     },
     "execution_count": 59,
     "metadata": {},
     "output_type": "execute_result"
    }
   ],
   "source": [
    "df_tmp['title'][df_tmp['dbscan_cluster']==0]"
   ]
  },
  {
   "cell_type": "code",
   "execution_count": 60,
   "metadata": {},
   "outputs": [
    {
     "data": {
      "text/plain": [
       "39                             [알립니다] 2020 세계일보 신춘문예 당선작\n",
       "79                          [알립니다] 2020 한국일보 신춘문예 당선자 선정\n",
       "200                 트럼프 “김정은 약속 지키는 사람” 레드라인 이탈 방지 거듭 촉구\n",
       "201                   美전문가들 “北 ICBM 위협은 양보 얻으려는 치킨게임 전술”\n",
       "375      “北·美 갈등 완화 韓 역할 중요… 북핵 금방 풀릴 일 아니다” [동북아 정세 전망]\n",
       "                              ...                       \n",
       "27975          3수 끝에 대선행… 바이든 “독재자 비위 안 맞추고 동맹·우방 함께할 것”\n",
       "27980                 바이든, 정치 입문 50년 만에 대권 도전… 단합과 지지 호소\n",
       "28840                               ‘포스트 아베’ 스가·이시바 등 거론\n",
       "28841         한·일 관계 정치적 이용 최악… 잇단 실정·지병에 결국 굴복 [뉴스 투데이]\n",
       "29030                            [알립니다]한국일보 78기 견습기자 합격자\n",
       "Name: title, Length: 188, dtype: object"
      ]
     },
     "execution_count": 60,
     "metadata": {},
     "output_type": "execute_result"
    }
   ],
   "source": [
    "df_tmp['title'][df_tmp['dbscan_cluster']==1]"
   ]
  },
  {
   "cell_type": "code",
   "execution_count": 61,
   "metadata": {},
   "outputs": [
    {
     "data": {
      "text/plain": [
       "Series([], Name: title, dtype: object)"
      ]
     },
     "execution_count": 61,
     "metadata": {},
     "output_type": "execute_result"
    }
   ],
   "source": [
    "df_tmp['title'][df_tmp['dbscan_cluster']==-1]"
   ]
  },
  {
   "cell_type": "code",
   "execution_count": null,
   "metadata": {},
   "outputs": [],
   "source": []
  },
  {
   "cell_type": "markdown",
   "metadata": {},
   "source": [
    "### 모델링"
   ]
  },
  {
   "cell_type": "code",
   "execution_count": 41,
   "metadata": {},
   "outputs": [],
   "source": [
    "def sign(x):\n",
    "    if x>=1:\n",
    "        return 1\n",
    "    else:\n",
    "        return 0"
   ]
  },
  {
   "cell_type": "code",
   "execution_count": 42,
   "metadata": {},
   "outputs": [],
   "source": [
    "label = df_tmp['dbscan_cluster'].map(lambda x : sign(x)).to_list()"
   ]
  },
  {
   "cell_type": "code",
   "execution_count": 43,
   "metadata": {},
   "outputs": [],
   "source": [
    "from sklearn.model_selection import train_test_split"
   ]
  },
  {
   "cell_type": "code",
   "execution_count": null,
   "metadata": {},
   "outputs": [],
   "source": [
    "RANDOM_SEED = 42\n",
    "TEST_SPLIT = 0.2\n"
   ]
  }
 ],
 "metadata": {
  "kernelspec": {
   "display_name": "nlp",
   "language": "python",
   "name": "npl"
  },
  "language_info": {
   "codemirror_mode": {
    "name": "ipython",
    "version": 3
   },
   "file_extension": ".py",
   "mimetype": "text/x-python",
   "name": "python",
   "nbconvert_exporter": "python",
   "pygments_lexer": "ipython3",
   "version": "3.7.10"
  }
 },
 "nbformat": 4,
 "nbformat_minor": 4
}
